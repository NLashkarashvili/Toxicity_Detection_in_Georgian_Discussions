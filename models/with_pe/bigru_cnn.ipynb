{
 "cells": [
  {
   "cell_type": "code",
   "execution_count": 2,
   "metadata": {
    "_cell_guid": "b1076dfc-b9ad-4769-8c92-a6c4dae69d19",
    "_uuid": "8f2839f25d086af736a60e9eeb907d3b93b6e0e5",
    "execution": {
     "iopub.execute_input": "2021-11-22T21:57:01.993322Z",
     "iopub.status.busy": "2021-11-22T21:57:01.992859Z",
     "iopub.status.idle": "2021-11-22T21:57:08.820705Z",
     "shell.execute_reply": "2021-11-22T21:57:08.819544Z",
     "shell.execute_reply.started": "2021-11-22T21:57:01.993279Z"
    }
   },
   "outputs": [],
   "source": [
    "import pandas as pd\n",
    "import numpy as np\n",
    "import math\n",
    "import string\n",
    "import copy\n",
    "import warnings\n",
    "import os\n",
    "import tensorflow as tf\n",
    "from tensorflow import keras\n",
    "from tensorflow.keras import layers\n",
    "from sklearn.model_selection import train_test_split\n",
    "from sklearn.model_selection import StratifiedKFold\n",
    "from tqdm import tqdm\n",
    "warnings.filterwarnings(\"ignore\")"
   ]
  },
  {
   "cell_type": "code",
   "execution_count": 42,
   "metadata": {
    "execution": {
     "iopub.execute_input": "2021-11-22T21:57:11.283963Z",
     "iopub.status.busy": "2021-11-22T21:57:11.283500Z",
     "iopub.status.idle": "2021-11-22T21:57:11.288326Z",
     "shell.execute_reply": "2021-11-22T21:57:11.286974Z",
     "shell.execute_reply.started": "2021-11-22T21:57:11.283914Z"
    }
   },
   "outputs": [],
   "source": [
    "test_folds = {}"
   ]
  },
  {
   "cell_type": "code",
   "execution_count": 43,
   "metadata": {
    "execution": {
     "iopub.execute_input": "2021-11-22T21:57:11.289942Z",
     "iopub.status.busy": "2021-11-22T21:57:11.289491Z",
     "iopub.status.idle": "2021-11-22T22:02:29.265202Z",
     "shell.execute_reply": "2021-11-22T22:02:29.264278Z",
     "shell.execute_reply.started": "2021-11-22T21:57:11.289887Z"
    }
   },
   "outputs": [
    {
     "name": "stdout",
     "output_type": "stream",
     "text": [
      "Epoch 1/10\n",
      "125/125 [==============================] - ETA: 0s - loss: 0.4347 - accuracy: 0.7990 - auc: 0.8723\n",
      "Epoch 00001: val_auc improved from -inf to 0.93710, saving model to sigmoid_models/0001/0001.ckpt\n",
      "125/125 [==============================] - 7s 55ms/step - loss: 0.4347 - accuracy: 0.7990 - auc: 0.8723 - val_loss: 0.3030 - val_accuracy: 0.8910 - val_auc: 0.9371\n",
      "Epoch 2/10\n",
      "124/125 [============================>.] - ETA: 0s - loss: 0.0754 - accuracy: 0.9748 - auc: 0.9955\n",
      "Epoch 00002: val_auc did not improve from 0.93710\n",
      "125/125 [==============================] - 6s 46ms/step - loss: 0.0755 - accuracy: 0.9747 - auc: 0.9955 - val_loss: 0.4713 - val_accuracy: 0.8470 - val_auc: 0.9214\n",
      "Epoch 3/10\n",
      "125/125 [==============================] - ETA: 0s - loss: 0.0146 - accuracy: 0.9961 - auc: 0.9995\n",
      "Epoch 00003: val_auc did not improve from 0.93710\n",
      "125/125 [==============================] - 6s 47ms/step - loss: 0.0146 - accuracy: 0.9961 - auc: 0.9995 - val_loss: 0.5212 - val_accuracy: 0.8700 - val_auc: 0.9264\n",
      "Epoch 4/10\n",
      "125/125 [==============================] - ETA: 0s - loss: 0.0047 - accuracy: 0.9991 - auc: 0.9997\n",
      "Epoch 00004: val_auc did not improve from 0.93710\n",
      "125/125 [==============================] - 5s 42ms/step - loss: 0.0047 - accuracy: 0.9991 - auc: 0.9997 - val_loss: 0.5902 - val_accuracy: 0.8680 - val_auc: 0.9179\n",
      "Epoch 5/10\n",
      "124/125 [============================>.] - ETA: 0s - loss: 0.0035 - accuracy: 0.9994 - auc: 0.9997\n",
      "Epoch 00005: val_auc did not improve from 0.93710\n",
      "125/125 [==============================] - 5s 43ms/step - loss: 0.0035 - accuracy: 0.9994 - auc: 0.9997 - val_loss: 0.5896 - val_accuracy: 0.8710 - val_auc: 0.9197\n",
      "Epoch 6/10\n",
      "125/125 [==============================] - ETA: 0s - loss: 0.0023 - accuracy: 0.9995 - auc: 0.9999    \n",
      "Epoch 00006: val_auc did not improve from 0.93710\n",
      "125/125 [==============================] - 5s 42ms/step - loss: 0.0023 - accuracy: 0.9995 - auc: 0.9999 - val_loss: 0.6787 - val_accuracy: 0.8590 - val_auc: 0.9112\n",
      "Epoch 7/10\n",
      "125/125 [==============================] - ETA: 0s - loss: 7.1576e-04 - accuracy: 0.9996 - auc: 1.0000\n",
      "Epoch 00007: val_auc did not improve from 0.93710\n",
      "125/125 [==============================] - 6s 45ms/step - loss: 7.1576e-04 - accuracy: 0.9996 - auc: 1.0000 - val_loss: 0.7033 - val_accuracy: 0.8540 - val_auc: 0.9078\n",
      "Epoch 8/10\n",
      "124/125 [============================>.] - ETA: 0s - loss: 0.0012 - accuracy: 0.9996 - auc: 0.9999\n",
      "Epoch 00008: val_auc did not improve from 0.93710\n",
      "125/125 [==============================] - 5s 43ms/step - loss: 0.0012 - accuracy: 0.9996 - auc: 0.9999 - val_loss: 0.6688 - val_accuracy: 0.8600 - val_auc: 0.9093\n",
      "Epoch 9/10\n",
      "125/125 [==============================] - ETA: 0s - loss: 0.0010 - accuracy: 0.9995 - auc: 1.0000\n",
      "Epoch 00009: val_auc did not improve from 0.93710\n",
      "125/125 [==============================] - 6s 44ms/step - loss: 0.0010 - accuracy: 0.9995 - auc: 1.0000 - val_loss: 0.6926 - val_accuracy: 0.8620 - val_auc: 0.9130\n",
      "Epoch 10/10\n",
      "125/125 [==============================] - ETA: 0s - loss: 0.0015 - accuracy: 0.9996 - auc: 0.9999\n",
      "Epoch 00010: val_auc did not improve from 0.93710\n",
      "125/125 [==============================] - 5s 42ms/step - loss: 0.0015 - accuracy: 0.9996 - auc: 0.9999 - val_loss: 0.8714 - val_accuracy: 0.8420 - val_auc: 0.8981\n",
      "250/250 [==============================] - 1s 5ms/step - loss: 0.1221 - accuracy: 0.9521 - auc: 0.9942\n",
      "32/32 [==============================] - 0s 5ms/step - loss: 0.3030 - accuracy: 0.8910 - auc: 0.9371\n",
      "32/32 [==============================] - 0s 5ms/step - loss: 0.3115 - accuracy: 0.8830 - auc: 0.9357\n",
      "mkdir: cannot create directory ‘sigmoid_models’: File exists\n",
      "Epoch 1/10\n",
      "125/125 [==============================] - ETA: 0s - loss: 0.4280 - accuracy: 0.7929 - auc: 0.8757\n",
      "Epoch 00001: val_auc improved from -inf to 0.93857, saving model to sigmoid_models/0002/0001.ckpt\n",
      "125/125 [==============================] - 7s 54ms/step - loss: 0.4280 - accuracy: 0.7929 - auc: 0.8757 - val_loss: 0.3176 - val_accuracy: 0.8910 - val_auc: 0.9386\n",
      "Epoch 2/10\n",
      "124/125 [============================>.] - ETA: 0s - loss: 0.0859 - accuracy: 0.9696 - auc: 0.9947\n",
      "Epoch 00002: val_auc did not improve from 0.93857\n",
      "125/125 [==============================] - 6s 46ms/step - loss: 0.0871 - accuracy: 0.9696 - auc: 0.9946 - val_loss: 0.4268 - val_accuracy: 0.8680 - val_auc: 0.9246\n",
      "Epoch 3/10\n",
      "124/125 [============================>.] - ETA: 0s - loss: 0.0178 - accuracy: 0.9948 - auc: 0.9993\n",
      "Epoch 00003: val_auc did not improve from 0.93857\n",
      "125/125 [==============================] - 6s 45ms/step - loss: 0.0179 - accuracy: 0.9948 - auc: 0.9994 - val_loss: 0.5760 - val_accuracy: 0.8610 - val_auc: 0.9091\n",
      "Epoch 4/10\n",
      "125/125 [==============================] - ETA: 0s - loss: 0.0077 - accuracy: 0.9987 - auc: 0.9995\n",
      "Epoch 00004: val_auc did not improve from 0.93857\n",
      "125/125 [==============================] - 6s 45ms/step - loss: 0.0077 - accuracy: 0.9987 - auc: 0.9995 - val_loss: 0.5096 - val_accuracy: 0.8680 - val_auc: 0.9192\n",
      "Epoch 5/10\n",
      "125/125 [==============================] - ETA: 0s - loss: 0.0050 - accuracy: 0.9991 - auc: 0.9995\n",
      "Epoch 00005: val_auc did not improve from 0.93857\n",
      "125/125 [==============================] - 5s 42ms/step - loss: 0.0050 - accuracy: 0.9991 - auc: 0.9995 - val_loss: 0.5407 - val_accuracy: 0.8650 - val_auc: 0.9204\n",
      "Epoch 6/10\n",
      "125/125 [==============================] - ETA: 0s - loss: 0.0045 - accuracy: 0.9992 - auc: 0.9997\n",
      "Epoch 00006: val_auc did not improve from 0.93857\n",
      "125/125 [==============================] - 6s 44ms/step - loss: 0.0045 - accuracy: 0.9992 - auc: 0.9997 - val_loss: 0.6154 - val_accuracy: 0.8690 - val_auc: 0.9157\n",
      "Epoch 7/10\n",
      "124/125 [============================>.] - ETA: 0s - loss: 0.0027 - accuracy: 0.9994 - auc: 0.9999\n",
      "Epoch 00007: val_auc did not improve from 0.93857\n",
      "125/125 [==============================] - 6s 48ms/step - loss: 0.0026 - accuracy: 0.9994 - auc: 0.9999 - val_loss: 0.6390 - val_accuracy: 0.8660 - val_auc: 0.9129\n",
      "Epoch 8/10\n",
      "125/125 [==============================] - ETA: 0s - loss: 0.0033 - accuracy: 0.9991 - auc: 0.9997\n",
      "Epoch 00008: val_auc did not improve from 0.93857\n",
      "125/125 [==============================] - 6s 44ms/step - loss: 0.0033 - accuracy: 0.9991 - auc: 0.9997 - val_loss: 0.5072 - val_accuracy: 0.8580 - val_auc: 0.9148\n",
      "Epoch 9/10\n",
      "125/125 [==============================] - ETA: 0s - loss: 0.0030 - accuracy: 0.9992 - auc: 0.9999\n",
      "Epoch 00009: val_auc did not improve from 0.93857\n",
      "125/125 [==============================] - 5s 43ms/step - loss: 0.0030 - accuracy: 0.9992 - auc: 0.9999 - val_loss: 0.6246 - val_accuracy: 0.8660 - val_auc: 0.9114\n",
      "Epoch 10/10\n",
      "124/125 [============================>.] - ETA: 0s - loss: 0.0014 - accuracy: 0.9995 - auc: 1.0000\n",
      "Epoch 00010: val_auc did not improve from 0.93857\n",
      "125/125 [==============================] - 5s 43ms/step - loss: 0.0014 - accuracy: 0.9995 - auc: 1.0000 - val_loss: 0.7183 - val_accuracy: 0.8570 - val_auc: 0.9053\n",
      "250/250 [==============================] - 1s 5ms/step - loss: 0.1346 - accuracy: 0.9460 - auc: 0.9945\n",
      "32/32 [==============================] - 0s 4ms/step - loss: 0.3176 - accuracy: 0.8910 - auc: 0.9386\n",
      "32/32 [==============================] - 0s 6ms/step - loss: 0.3116 - accuracy: 0.8870 - auc: 0.9428\n",
      "mkdir: cannot create directory ‘sigmoid_models’: File exists\n",
      "Epoch 1/10\n",
      "124/125 [============================>.] - ETA: 0s - loss: 0.4299 - accuracy: 0.7935 - auc: 0.8722\n",
      "Epoch 00001: val_auc improved from -inf to 0.93769, saving model to sigmoid_models/0003/0001.ckpt\n",
      "125/125 [==============================] - 6s 49ms/step - loss: 0.4290 - accuracy: 0.7944 - auc: 0.8728 - val_loss: 0.3751 - val_accuracy: 0.8740 - val_auc: 0.9377\n",
      "Epoch 2/10\n",
      "124/125 [============================>.] - ETA: 0s - loss: 0.0747 - accuracy: 0.9747 - auc: 0.9957\n",
      "Epoch 00002: val_auc did not improve from 0.93769\n",
      "125/125 [==============================] - 6s 45ms/step - loss: 0.0750 - accuracy: 0.9746 - auc: 0.9957 - val_loss: 0.4491 - val_accuracy: 0.8640 - val_auc: 0.9194\n",
      "Epoch 3/10\n",
      "124/125 [============================>.] - ETA: 0s - loss: 0.0118 - accuracy: 0.9962 - auc: 0.9997\n",
      "Epoch 00003: val_auc did not improve from 0.93769\n",
      "125/125 [==============================] - 5s 43ms/step - loss: 0.0117 - accuracy: 0.9962 - auc: 0.9997 - val_loss: 0.5550 - val_accuracy: 0.8650 - val_auc: 0.9188\n",
      "Epoch 4/10\n",
      "125/125 [==============================] - ETA: 0s - loss: 0.0058 - accuracy: 0.9995 - auc: 0.9996\n",
      "Epoch 00004: val_auc did not improve from 0.93769\n",
      "125/125 [==============================] - 5s 43ms/step - loss: 0.0058 - accuracy: 0.9995 - auc: 0.9996 - val_loss: 0.6511 - val_accuracy: 0.8560 - val_auc: 0.9170\n",
      "Epoch 5/10\n",
      "125/125 [==============================] - ETA: 0s - loss: 0.0045 - accuracy: 0.9994 - auc: 0.9996\n",
      "Epoch 00005: val_auc did not improve from 0.93769\n",
      "125/125 [==============================] - 5s 43ms/step - loss: 0.0045 - accuracy: 0.9994 - auc: 0.9996 - val_loss: 0.7240 - val_accuracy: 0.8570 - val_auc: 0.9043\n",
      "Epoch 6/10\n",
      "125/125 [==============================] - ETA: 0s - loss: 0.0026 - accuracy: 0.9992 - auc: 0.9999\n",
      "Epoch 00006: val_auc did not improve from 0.93769\n",
      "125/125 [==============================] - 5s 44ms/step - loss: 0.0026 - accuracy: 0.9992 - auc: 0.9999 - val_loss: 0.7892 - val_accuracy: 0.8570 - val_auc: 0.9035\n",
      "Epoch 7/10\n",
      "125/125 [==============================] - ETA: 0s - loss: 0.0030 - accuracy: 0.9995 - auc: 0.9997\n",
      "Epoch 00007: val_auc did not improve from 0.93769\n",
      "125/125 [==============================] - 6s 45ms/step - loss: 0.0030 - accuracy: 0.9995 - auc: 0.9997 - val_loss: 0.8220 - val_accuracy: 0.8530 - val_auc: 0.8984\n",
      "Epoch 8/10\n",
      "125/125 [==============================] - ETA: 0s - loss: 0.0021 - accuracy: 0.9995 - auc: 1.0000\n",
      "Epoch 00008: val_auc did not improve from 0.93769\n",
      "125/125 [==============================] - 6s 44ms/step - loss: 0.0021 - accuracy: 0.9995 - auc: 1.0000 - val_loss: 0.7295 - val_accuracy: 0.8610 - val_auc: 0.9080\n",
      "Epoch 9/10\n",
      "125/125 [==============================] - ETA: 0s - loss: 0.0020 - accuracy: 0.9995 - auc: 0.9999\n",
      "Epoch 00009: val_auc did not improve from 0.93769\n",
      "125/125 [==============================] - 5s 43ms/step - loss: 0.0020 - accuracy: 0.9995 - auc: 0.9999 - val_loss: 0.7424 - val_accuracy: 0.8530 - val_auc: 0.8999\n",
      "Epoch 10/10\n",
      "125/125 [==============================] - ETA: 0s - loss: 0.0012 - accuracy: 0.9996 - auc: 1.0000\n",
      "Epoch 00010: val_auc did not improve from 0.93769\n",
      "125/125 [==============================] - 5s 43ms/step - loss: 0.0012 - accuracy: 0.9996 - auc: 1.0000 - val_loss: 0.8268 - val_accuracy: 0.8480 - val_auc: 0.8991\n",
      "250/250 [==============================] - 1s 5ms/step - loss: 0.1595 - accuracy: 0.9404 - auc: 0.9952\n",
      "32/32 [==============================] - 0s 5ms/step - loss: 0.3751 - accuracy: 0.8740 - auc: 0.9377\n",
      "32/32 [==============================] - 0s 5ms/step - loss: 0.3526 - accuracy: 0.8710 - auc: 0.9382\n",
      "mkdir: cannot create directory ‘sigmoid_models’: File exists\n",
      "Epoch 1/10\n",
      "124/125 [============================>.] - ETA: 0s - loss: 0.4312 - accuracy: 0.7956 - auc: 0.8722\n",
      "Epoch 00001: val_auc improved from -inf to 0.92318, saving model to sigmoid_models/0004/0001.ckpt\n",
      "125/125 [==============================] - 6s 49ms/step - loss: 0.4303 - accuracy: 0.7964 - auc: 0.8728 - val_loss: 0.3385 - val_accuracy: 0.8860 - val_auc: 0.9232\n",
      "Epoch 2/10\n",
      "124/125 [============================>.] - ETA: 0s - loss: 0.0970 - accuracy: 0.9656 - auc: 0.9930\n",
      "Epoch 00002: val_auc did not improve from 0.92318\n",
      "125/125 [==============================] - 6s 44ms/step - loss: 0.0971 - accuracy: 0.9655 - auc: 0.9930 - val_loss: 0.5177 - val_accuracy: 0.8220 - val_auc: 0.9087\n",
      "Epoch 3/10\n",
      "124/125 [============================>.] - ETA: 0s - loss: 0.0172 - accuracy: 0.9961 - auc: 0.9992\n",
      "Epoch 00003: val_auc did not improve from 0.92318\n",
      "125/125 [==============================] - 5s 43ms/step - loss: 0.0171 - accuracy: 0.9960 - auc: 0.9992 - val_loss: 0.6256 - val_accuracy: 0.8500 - val_auc: 0.9019\n",
      "Epoch 4/10\n",
      "124/125 [============================>.] - ETA: 0s - loss: 0.0042 - accuracy: 0.9992 - auc: 0.9997\n",
      "Epoch 00004: val_auc did not improve from 0.92318\n",
      "125/125 [==============================] - 5s 41ms/step - loss: 0.0042 - accuracy: 0.9992 - auc: 0.9997 - val_loss: 0.6956 - val_accuracy: 0.8570 - val_auc: 0.8981\n",
      "Epoch 5/10\n",
      "125/125 [==============================] - ETA: 0s - loss: 0.0045 - accuracy: 0.9992 - auc: 0.9997\n",
      "Epoch 00005: val_auc did not improve from 0.92318\n",
      "125/125 [==============================] - 5s 42ms/step - loss: 0.0045 - accuracy: 0.9992 - auc: 0.9997 - val_loss: 0.6630 - val_accuracy: 0.8650 - val_auc: 0.8979\n",
      "Epoch 6/10\n",
      "124/125 [============================>.] - ETA: 0s - loss: 0.0030 - accuracy: 0.9995 - auc: 0.9999\n",
      "Epoch 00006: val_auc did not improve from 0.92318\n",
      "125/125 [==============================] - 5s 42ms/step - loss: 0.0030 - accuracy: 0.9995 - auc: 0.9999 - val_loss: 0.7142 - val_accuracy: 0.8550 - val_auc: 0.9015\n",
      "Epoch 7/10\n",
      "125/125 [==============================] - ETA: 0s - loss: 0.0028 - accuracy: 0.9994 - auc: 0.9997\n",
      "Epoch 00007: val_auc did not improve from 0.92318\n",
      "125/125 [==============================] - 5s 41ms/step - loss: 0.0028 - accuracy: 0.9994 - auc: 0.9997 - val_loss: 0.6868 - val_accuracy: 0.8560 - val_auc: 0.9008\n",
      "Epoch 8/10\n",
      "125/125 [==============================] - ETA: 0s - loss: 0.0017 - accuracy: 0.9996 - auc: 1.0000\n",
      "Epoch 00008: val_auc did not improve from 0.92318\n",
      "125/125 [==============================] - 6s 44ms/step - loss: 0.0017 - accuracy: 0.9996 - auc: 1.0000 - val_loss: 0.7054 - val_accuracy: 0.8540 - val_auc: 0.9026\n",
      "Epoch 9/10\n",
      "124/125 [============================>.] - ETA: 0s - loss: 9.3420e-04 - accuracy: 0.9996 - auc: 1.0000\n",
      "Epoch 00009: val_auc did not improve from 0.92318\n",
      "125/125 [==============================] - 5s 43ms/step - loss: 9.2693e-04 - accuracy: 0.9996 - auc: 1.0000 - val_loss: 1.0390 - val_accuracy: 0.8610 - val_auc: 0.8852\n",
      "Epoch 10/10\n",
      "124/125 [============================>.] - ETA: 0s - loss: 0.0029 - accuracy: 0.9995 - auc: 0.9999\n",
      "Epoch 00010: val_auc did not improve from 0.92318\n",
      "125/125 [==============================] - 5s 43ms/step - loss: 0.0031 - accuracy: 0.9994 - auc: 0.9999 - val_loss: 0.8064 - val_accuracy: 0.8610 - val_auc: 0.8870\n",
      "250/250 [==============================] - 1s 5ms/step - loss: 0.1109 - accuracy: 0.9575 - auc: 0.9940\n",
      "32/32 [==============================] - 0s 5ms/step - loss: 0.3385 - accuracy: 0.8860 - auc: 0.9232\n",
      "32/32 [==============================] - 0s 4ms/step - loss: 0.2947 - accuracy: 0.8930 - auc: 0.9372\n",
      "mkdir: cannot create directory ‘sigmoid_models’: File exists\n",
      "Epoch 1/10\n",
      "125/125 [==============================] - ETA: 0s - loss: 0.4371 - accuracy: 0.7912 - auc: 0.8689\n",
      "Epoch 00001: val_auc improved from -inf to 0.92188, saving model to sigmoid_models/0005/0001.ckpt\n",
      "125/125 [==============================] - 6s 50ms/step - loss: 0.4371 - accuracy: 0.7912 - auc: 0.8689 - val_loss: 0.3334 - val_accuracy: 0.8600 - val_auc: 0.9219\n",
      "Epoch 2/10\n",
      "125/125 [==============================] - ETA: 0s - loss: 0.0762 - accuracy: 0.9732 - auc: 0.9959\n",
      "Epoch 00002: val_auc did not improve from 0.92188\n",
      "125/125 [==============================] - 6s 44ms/step - loss: 0.0762 - accuracy: 0.9732 - auc: 0.9959 - val_loss: 0.5330 - val_accuracy: 0.8330 - val_auc: 0.9006\n",
      "Epoch 3/10\n",
      "125/125 [==============================] - ETA: 0s - loss: 0.0119 - accuracy: 0.9970 - auc: 0.9993\n",
      "Epoch 00003: val_auc did not improve from 0.92188\n",
      "125/125 [==============================] - 5s 43ms/step - loss: 0.0119 - accuracy: 0.9970 - auc: 0.9993 - val_loss: 0.7132 - val_accuracy: 0.8490 - val_auc: 0.8967\n",
      "Epoch 4/10\n",
      "124/125 [============================>.] - ETA: 0s - loss: 0.0049 - accuracy: 0.9989 - auc: 0.9997\n",
      "Epoch 00004: val_auc did not improve from 0.92188\n",
      "125/125 [==============================] - 5s 42ms/step - loss: 0.0049 - accuracy: 0.9987 - auc: 0.9997 - val_loss: 0.8862 - val_accuracy: 0.8340 - val_auc: 0.8938\n",
      "Epoch 5/10\n",
      "125/125 [==============================] - ETA: 0s - loss: 0.0037 - accuracy: 0.9992 - auc: 0.9997\n",
      "Epoch 00005: val_auc did not improve from 0.92188\n",
      "125/125 [==============================] - 5s 43ms/step - loss: 0.0037 - accuracy: 0.9992 - auc: 0.9997 - val_loss: 0.7712 - val_accuracy: 0.8450 - val_auc: 0.8931\n",
      "Epoch 6/10\n",
      "124/125 [============================>.] - ETA: 0s - loss: 0.0018 - accuracy: 0.9996 - auc: 0.9999\n",
      "Epoch 00006: val_auc did not improve from 0.92188\n",
      "125/125 [==============================] - 5s 42ms/step - loss: 0.0018 - accuracy: 0.9996 - auc: 0.9999 - val_loss: 0.7915 - val_accuracy: 0.8460 - val_auc: 0.8927\n",
      "Epoch 7/10\n",
      "124/125 [============================>.] - ETA: 0s - loss: 0.0020 - accuracy: 0.9996 - auc: 0.9999\n",
      "Epoch 00007: val_auc did not improve from 0.92188\n",
      "125/125 [==============================] - 5s 42ms/step - loss: 0.0020 - accuracy: 0.9996 - auc: 0.9999 - val_loss: 0.8269 - val_accuracy: 0.8460 - val_auc: 0.8980\n",
      "Epoch 8/10\n",
      "125/125 [==============================] - ETA: 0s - loss: 0.0016 - accuracy: 0.9996 - auc: 0.9999\n",
      "Epoch 00008: val_auc did not improve from 0.92188\n",
      "125/125 [==============================] - 5s 41ms/step - loss: 0.0016 - accuracy: 0.9996 - auc: 0.9999 - val_loss: 0.8524 - val_accuracy: 0.8450 - val_auc: 0.8899\n",
      "Epoch 9/10\n",
      "124/125 [============================>.] - ETA: 0s - loss: 0.0020 - accuracy: 0.9996 - auc: 0.9997\n",
      "Epoch 00009: val_auc did not improve from 0.92188\n",
      "125/125 [==============================] - 5s 41ms/step - loss: 0.0019 - accuracy: 0.9996 - auc: 0.9997 - val_loss: 0.7853 - val_accuracy: 0.8500 - val_auc: 0.8959\n",
      "Epoch 10/10\n",
      "124/125 [============================>.] - ETA: 0s - loss: 5.8715e-04 - accuracy: 0.9999 - auc: 1.0000\n",
      "Epoch 00010: val_auc did not improve from 0.92188\n",
      "125/125 [==============================] - 5s 40ms/step - loss: 0.0011 - accuracy: 0.9998 - auc: 1.0000 - val_loss: 0.8632 - val_accuracy: 0.8580 - val_auc: 0.8934\n",
      "250/250 [==============================] - 1s 5ms/step - loss: 0.1162 - accuracy: 0.9605 - auc: 0.9946\n",
      "32/32 [==============================] - 0s 5ms/step - loss: 0.3334 - accuracy: 0.8600 - auc: 0.9219\n",
      "32/32 [==============================] - 0s 5ms/step - loss: 0.2933 - accuracy: 0.8940 - auc: 0.9347\n"
     ]
    }
   ],
   "source": [
    "stfold = StratifiedKFold(n_splits=5, shuffle=True)\n",
    "train_l = list()\n",
    "val_l = list()\n",
    "test_l = list()\n",
    "maxlen = 25\n",
    "cnt = 0\n",
    "for train_index, test_index in stfold.split(data['comment'], data['label']):\n",
    "    cnt += 1\n",
    "    train = data.iloc[train_index]\n",
    "    train_x, train_y = train['comment'], train['label']\n",
    "    tmp = data.iloc[test_index]\n",
    "\n",
    "    val, test = train_test_split(tmp, test_size=0.5, stratify=tmp['label'])    \n",
    "    val_x, val_y = val['comment'], val['label']\n",
    "    test_x, test_y = test['comment'], test['label']    \n",
    "    \n",
    "    train_x = keras.preprocessing.sequence.pad_sequences(train_x, maxlen=maxlen)\n",
    "    val_x = keras.preprocessing.sequence.pad_sequences(val_x, maxlen=maxlen)\n",
    "    test_x = keras.preprocessing.sequence.pad_sequences(test_x, maxlen=maxlen)\n",
    "    \n",
    "    embed_dim = 128  # Embedding size for each token\n",
    "    vocab_size = n_word_unique + 1\n",
    "    test_folds[cnt] = (test_x, test_y)\n",
    "    \n",
    "    inputs = layers.Input(shape=(maxlen, ))\n",
    "    embedding_layer = layers.Embedding(input_dim = vocab_size, output_dim = embed_dim, input_length=maxlen)\n",
    "    x = embedding_layer(inputs)\n",
    "    x = layers.Bidirectional(layers.GRU(32, return_sequences = True))(x)\n",
    "    x = layers.Conv1D(32, kernel_size = 2, padding = \"valid\", kernel_initializer = \"he_uniform\")(x)\n",
    "    x = layers.Dropout(0.1)(x)\n",
    "    avg_pool = layers.GlobalAveragePooling1D()(x)\n",
    "    max_pool = layers.GlobalMaxPooling1D()(x)\n",
    "    x = layers.concatenate([avg_pool, max_pool])\n",
    "    outputs = layers.Dense(1, activation=\"sigmoid\")(x)\n",
    "\n",
    "    model = keras.Model(inputs=inputs, outputs=outputs)\n",
    "    model_path = \"sigmoid_models/{itr:04}/\".format(itr=cnt)\n",
    "    checkpoint_path = model_path + \"{epoch:04d}.ckpt\"\n",
    "    checkpoint_dir = os.path.dirname(checkpoint_path)\n",
    "    !mkdir sigmoid_models\n",
    "    !mkdir $model_path\n",
    "    \n",
    "    \n",
    "    model.compile(optimizer=tf.keras.optimizers.Adam(learning_rate=0.009), \n",
    "                  loss=\"binary_crossentropy\", metrics=[\"accuracy\", \n",
    "                                                  tf.keras.metrics.AUC(name='auc')])\n",
    "    \n",
    "    \n",
    "    #create checkpoint to save model\n",
    "    #with best validation loss\n",
    "    model.save_weights(checkpoint_path.format(epoch=0))\n",
    "\n",
    "    checkpoint = tf.keras.callbacks.ModelCheckpoint(checkpoint_path, monitor='val_auc', verbose=1,\n",
    "            save_weights_only=True, save_best_only=True, mode='max')\n",
    "    \n",
    "    history = model.fit(\n",
    "                        train_x, train_y, \n",
    "                        batch_size=64, epochs=10, \n",
    "                        validation_data=(val_x, val_y),\n",
    "                        callbacks = [checkpoint]\n",
    "                        )\n",
    "\n",
    "    latest = tf.train.latest_checkpoint(checkpoint_dir)\n",
    "    model.load_weights(latest)\n",
    "    \n",
    "    train_eval = model.evaluate(train_x, train_y)\n",
    "    val_eval = model.evaluate(val_x, val_y)\n",
    "    test_eval = model.evaluate(test_x, test_y)\n",
    "    \n",
    "    test_l.append(test_eval)\n",
    "    val_l.append(val_eval)\n",
    "    train_l.append(train_eval)"
   ]
  },
  {
   "cell_type": "code",
   "execution_count": 44,
   "metadata": {
    "execution": {
     "iopub.execute_input": "2021-11-22T22:02:29.267119Z",
     "iopub.status.busy": "2021-11-22T22:02:29.266844Z",
     "iopub.status.idle": "2021-11-22T22:02:29.288992Z",
     "shell.execute_reply": "2021-11-22T22:02:29.287770Z",
     "shell.execute_reply.started": "2021-11-22T22:02:29.267090Z"
    }
   },
   "outputs": [
    {
     "name": "stdout",
     "output_type": "stream",
     "text": [
      "test avg loss:  0.3127451479434967 +/- 0.02140923407524307\n",
      "test avg acc:  0.8856000065803528 +/- 0.008333069244278632\n",
      "test avg auc:  0.937699842453003 +/- 0.002823682257236276\n",
      "\n",
      "\n",
      "val avg loss:  0.3335454523563385 +/- 0.024243541386534322\n",
      "val avg acc:  0.8803999900817872 +/- 0.011943180883928123\n",
      "val avg auc:  0.9316841840744019 +/- 0.007499251930913651\n",
      "\n",
      "\n",
      "train avg loss:  0.12865335494279861 +/- 0.017332458815986326\n",
      "train avg acc:  0.9512999892234802 +/- 0.007364875125723565\n",
      "train avg auc:  0.9944977760314941 +/- 0.00041974145249928306\n"
     ]
    }
   ],
   "source": [
    "test_l = np.array(test_l)\n",
    "val_l = np.array(val_l)\n",
    "train_l = np.array(train_l)\n",
    "\n",
    "print(\"test avg loss: \", np.mean(test_l[:, 0]), \"+/-\" ,np.std(test_l[:, 0]))\n",
    "print(\"test avg acc: \", np.mean(test_l[:, 1]),  \"+/-\" ,np.std(test_l[:, 1]))\n",
    "print(\"test avg auc: \", np.mean(test_l[:, 2]),  \"+/-\" ,np.std(test_l[:, 2]))\n",
    "\n",
    "print('\\n')\n",
    "\n",
    "\n",
    "print(\"val avg loss: \", np.mean(val_l[:, 0]), \"+/-\" ,np.std(val_l[:, 0]))\n",
    "print(\"val avg acc: \", np.mean(val_l[:, 1]),  \"+/-\" ,np.std(val_l[:, 1]))\n",
    "print(\"val avg auc: \", np.mean(val_l[:, 2]),  \"+/-\" ,np.std(val_l[:, 2]))\n",
    "\n",
    "\n",
    "print('\\n')\n",
    "\n",
    "\n",
    "print(\"train avg loss: \", np.mean(train_l[:, 0]), \"+/-\" ,np.std(train_l[:, 0]))\n",
    "print(\"train avg acc: \", np.mean(train_l[:, 1]),  \"+/-\" ,np.std(train_l[:, 1]))\n",
    "print(\"train avg auc: \", np.mean(train_l[:, 2]),  \"+/-\" ,np.std(train_l[:, 2]))"
   ]
  },
  {
   "cell_type": "code",
   "execution_count": 46,
   "metadata": {
    "execution": {
     "iopub.execute_input": "2021-11-22T22:02:29.296565Z",
     "iopub.status.busy": "2021-11-22T22:02:29.296277Z",
     "iopub.status.idle": "2021-11-22T22:02:29.314627Z",
     "shell.execute_reply": "2021-11-22T22:02:29.313406Z",
     "shell.execute_reply.started": "2021-11-22T22:02:29.296537Z"
    }
   },
   "outputs": [],
   "source": [
    "data['word_count'] = data['comment'].apply(lambda a: len(a))"
   ]
  },
  {
   "cell_type": "code",
   "execution_count": 47,
   "metadata": {
    "execution": {
     "iopub.execute_input": "2021-11-22T22:02:29.316624Z",
     "iopub.status.busy": "2021-11-22T22:02:29.316218Z",
     "iopub.status.idle": "2021-11-22T22:02:29.333881Z",
     "shell.execute_reply": "2021-11-22T22:02:29.332870Z",
     "shell.execute_reply.started": "2021-11-22T22:02:29.316584Z"
    }
   },
   "outputs": [],
   "source": [
    "ix_to_word = {v:k for k,v in word_dict_inx.items()}"
   ]
  },
  {
   "cell_type": "code",
   "execution_count": 49,
   "metadata": {
    "execution": {
     "iopub.execute_input": "2021-11-22T22:02:29.341919Z",
     "iopub.status.busy": "2021-11-22T22:02:29.341488Z",
     "iopub.status.idle": "2021-11-22T22:02:30.588548Z",
     "shell.execute_reply": "2021-11-22T22:02:30.587467Z",
     "shell.execute_reply.started": "2021-11-22T22:02:29.341887Z"
    }
   },
   "outputs": [
    {
     "data": {
      "image/png": "[encoded data removed]",
      "text/plain": [
       "<Figure size 720x432 with 2 Axes>"
      ]
     },
     "metadata": {
      "needs_background": "light"
     },
     "output_type": "display_data"
    }
   ],
   "source": [
    "import matplotlib.pyplot as plt\n",
    "import matplotlib\n",
    "import seaborn as sns\n",
    "import pandas as pd \n",
    "from sklearn.metrics import confusion_matrix\n",
    "\n",
    "font = {'family' : 'normal',\n",
    "        'weight' : 'bold',\n",
    "        'size'   : 16}\n",
    "\n",
    "matplotlib.rc('font', **font)\n",
    "pred = np.array([model.predict(test_folds[5][0]) > 0.5], dtype=int).ravel()\n",
    "cm = confusion_matrix(test_folds[5][1].values, pred)\n",
    "cm = pd.DataFrame(cm, range(2),range(2))\n",
    "plt.figure(figsize = (10, 6))\n",
    "\n",
    "sns.heatmap(cm,\n",
    "            fmt = 'd',\n",
    "            annot=True)\n",
    "\n",
    "\n",
    "ax = plt.subplot()\n",
    "ax.set_xlabel('Predicted')\n",
    "ax.set_ylabel('Labels')\n",
    "ax.xaxis.set_ticklabels(['non-toxic', 'toxic'])\n",
    "ax.yaxis.set_ticklabels(['non-toxic', 'toxic'])\n",
    "ax.set_title('BiGRU-CNN Model')\n",
    "plt.show()"
   ]
  },
  {
   "cell_type": "code",
   "execution_count": 50,
   "metadata": {
    "execution": {
     "iopub.execute_input": "2021-11-22T22:02:30.590653Z",
     "iopub.status.busy": "2021-11-22T22:02:30.590275Z",
     "iopub.status.idle": "2021-11-22T22:02:30.628273Z",
     "shell.execute_reply": "2021-11-22T22:02:30.627436Z",
     "shell.execute_reply.started": "2021-11-22T22:02:30.590621Z"
    }
   },
   "outputs": [
    {
     "name": "stdout",
     "output_type": "stream",
     "text": [
      "correct 12.20917225950783 +/- 11.458962505850812\n",
      "incorrect 17.81132075471698 +/- 17.23402681162344\n",
      "###########################\n",
      "correct 0 11.793522267206479 +/- 12.81724713343801\n",
      "incorrect 0 14.714285714285714 +/- 9.577121402352622\n",
      "###########################\n",
      "correct 1 12.7225 +/- 9.508760964905955\n",
      "incorrect 1 19.84375 +/- 20.609150957150156\n"
     ]
    }
   ],
   "source": [
    "ind = np.arange(test.shape[0])\n",
    "test['word_count'] = test['comment'].apply(lambda a: len(a))\n",
    "test = test.reset_index(drop=True)\n",
    "correct = pred==test_y\n",
    "select_cor = ind[correct]\n",
    "where_0_c = ind[(correct) & (test_y==0)]\n",
    "where_0_n = ind[(correct==False) & (test_y==0)]\n",
    "where_1_c = ind[(correct) & (test_y==1)]\n",
    "where_1_n = ind[(correct==False) & (test_y==1)]\n",
    "\n",
    "cor_mean = test.iloc[select_cor]['word_count'].mean(), \n",
    "inc_mean = test.iloc[list(set(ind) - set(select_cor))]['word_count'].mean()\n",
    "cor_std = test.iloc[select_cor]['word_count'].std(), \n",
    "inc_std = test.iloc[list(set(ind) - set(select_cor))]['word_count'].std()\n",
    "print(\"correct\", cor_mean[0], '+/-', cor_std[0])\n",
    "print(\"incorrect\", inc_mean, '+/-', inc_std)\n",
    "print('###########################')\n",
    "\n",
    "cor_mean_0 = test.iloc[where_0_c]['word_count'].mean(), \n",
    "inc_mean_0 = test.iloc[where_0_n]['word_count'].mean()\n",
    "cor_std_0 = test.iloc[where_0_c]['word_count'].std(), \n",
    "inc_std_0 = test.iloc[where_0_n]['word_count'].std()\n",
    "print(\"correct 0\", cor_mean_0[0], '+/-', cor_std_0[0])\n",
    "print(\"incorrect 0\", inc_mean_0, '+/-', inc_std_0)\n",
    "print('###########################')\n",
    "\n",
    "\n",
    "cor_mean_1 = test.iloc[where_1_c]['word_count'].mean(), \n",
    "inc_mean_1 = test.iloc[where_1_n]['word_count'].mean()\n",
    "cor_std_1 = test.iloc[where_1_c]['word_count'].std(), \n",
    "inc_std_1 = test.iloc[where_1_n]['word_count'].std()\n",
    "print(\"correct 1\", cor_mean_1[0], '+/-', cor_std_1[0])\n",
    "print(\"incorrect 1\", inc_mean_1, '+/-', inc_std_1)"
   ]
  },
  {
   "cell_type": "code",
   "execution_count": 51,
   "metadata": {
    "execution": {
     "iopub.execute_input": "2021-11-22T22:02:30.630455Z",
     "iopub.status.busy": "2021-11-22T22:02:30.629817Z",
     "iopub.status.idle": "2021-11-22T22:02:30.649606Z",
     "shell.execute_reply": "2021-11-22T22:02:30.648403Z",
     "shell.execute_reply.started": "2021-11-22T22:02:30.630405Z"
    }
   },
   "outputs": [],
   "source": [
    "correct_list = list()\n",
    "incorrect_list = list()\n",
    "cor_ind = ind[correct]\n",
    "incor_ind = ind[list(set(ind) - set(select_cor))]\n",
    "for cor_com in test.iloc[cor_ind].comment:\n",
    "    correct_list.extend(cor_com)\n",
    "\n",
    "for incor_com in test.iloc[incor_ind].comment:\n",
    "    incorrect_list.extend(incor_com)\n",
    "\n",
    "cor_top10 = Counter(correct_list).most_common(10)\n",
    "incor_top10 = Counter(incorrect_list).most_common(10)"
   ]
  },
  {
   "cell_type": "code",
   "execution_count": 52,
   "metadata": {
    "execution": {
     "iopub.execute_input": "2021-11-22T22:02:30.651803Z",
     "iopub.status.busy": "2021-11-22T22:02:30.651285Z",
     "iopub.status.idle": "2021-11-22T22:02:30.668454Z",
     "shell.execute_reply": "2021-11-22T22:02:30.666779Z",
     "shell.execute_reply.started": "2021-11-22T22:02:30.651749Z"
    }
   },
   "outputs": [
    {
     "name": "stdout",
     "output_type": "stream",
     "text": [
      "CORRECT\n",
      "არ\n",
      "ეს\n",
      "რა\n",
      "უნდა\n",
      "იყო\n",
      "ვერ\n",
      "ეგ\n",
      "ამ\n",
      "ჩვენი\n",
      "არა\n",
      "###################\n",
      "INCORRECT\n",
      "არ\n",
      "რა\n",
      "ამ\n",
      "უნდა\n",
      "საქართველო\n",
      "რუსეთი\n",
      "იყო\n",
      "ჩვენი\n",
      "არა\n",
      "მეი\n"
     ]
    }
   ],
   "source": [
    "print('CORRECT')\n",
    "for cor in cor_top10:\n",
    "    print(ix_to_word[cor[0]])\n",
    "print('###################')\n",
    "print('INCORRECT')\n",
    "\n",
    "for incor in incor_top10:\n",
    "    print(ix_to_word[incor[0]])"
   ]
  },
  {
   "cell_type": "code",
   "execution_count": 53,
   "metadata": {
    "execution": {
     "iopub.execute_input": "2021-11-22T22:02:30.670877Z",
     "iopub.status.busy": "2021-11-22T22:02:30.670444Z",
     "iopub.status.idle": "2021-11-22T22:02:30.698089Z",
     "shell.execute_reply": "2021-11-22T22:02:30.697172Z",
     "shell.execute_reply.started": "2021-11-22T22:02:30.670842Z"
    }
   },
   "outputs": [
    {
     "data": {
      "text/plain": [
       "<Figure size 432x288 with 0 Axes>"
      ]
     },
     "metadata": {},
     "output_type": "display_data"
    }
   ],
   "source": [
    "plt.savefig('bigru-cnn.png')"
   ]
  }
 ],
 "metadata": {
  "kernelspec": {
   "display_name": "Python 3",
   "language": "python",
   "name": "python3"
  },
  "language_info": {
   "codemirror_mode": {
    "name": "ipython",
    "version": 3
   },
   "file_extension": ".py",
   "mimetype": "text/x-python",
   "name": "python",
   "nbconvert_exporter": "python",
   "pygments_lexer": "ipython3",
   "version": "3.8.5"
  }
 },
 "nbformat": 4,
 "nbformat_minor": 4
}
