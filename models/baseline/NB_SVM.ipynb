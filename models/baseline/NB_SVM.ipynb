{
 "cells": [
  {
   "cell_type": "code",
   "execution_count": 1,
   "metadata": {
    "id": "MB9ieF67JZmg"
   },
   "outputs": [],
   "source": [
    "import pandas as pd, numpy as np\n",
    "import re, string\n",
    "from sklearn.linear_model import LogisticRegression\n",
    "from sklearn.feature_extraction.text import CountVectorizer, TfidfVectorizer\n",
    "from sklearn.metrics import roc_auc_score\n",
    "from sklearn.model_selection import train_test_split\n",
    "from sklearn.model_selection import StratifiedKFold"
   ]
  },
  {
   "cell_type": "code",
   "execution_count": 2,
   "metadata": {
    "id": "ksmFx4uiJivm"
   },
   "outputs": [],
   "source": [
    "data = pd.read_feather('/home/nlashkarashvili/Documents/toxic_comments/data/comments.feather')"
   ]
  },
  {
   "cell_type": "code",
   "execution_count": 3,
   "metadata": {
    "id": "8lCyYHtuJj8b"
   },
   "outputs": [],
   "source": [
    "def tokenize(comment): \n",
    "    return re.compile(f'([{string.punctuation}“”¨«»®´·º½¾¿¡§£₤‘’])').sub(r' \\1 ', comment).split()\n",
    "\n",
    "def pr(y_i, y):\n",
    "    p = x[y==y_i].sum(0)\n",
    "    return (p+1) / ((y==y_i).sum()+1)\n",
    "\n",
    "def get_mdl(y):\n",
    "    log = np.log(pr(1,y) / pr(0,y))\n",
    "    model = LogisticRegression(C=2., dual=False)\n",
    "    x_tr = x.multiply(log)\n",
    "    return model.fit(x_tr, y), log"
   ]
  },
  {
   "cell_type": "code",
   "execution_count": 4,
   "metadata": {
    "id": "kXKc1IpXJmNX"
   },
   "outputs": [],
   "source": [
    "stfold = StratifiedKFold(n_splits=5, shuffle=True)\n",
    "train_l = list()\n",
    "test_l = list()\n",
    "cnt = 0\n",
    "for train_index, test_index in stfold.split(data['comment'], data['label']):\n",
    "    cnt += 1\n",
    "    train = data.iloc[train_index]\n",
    "    train_x, train_y = train['comment'], train['label']\n",
    "    test = data.iloc[test_index]\n",
    "    test_x, test_y = test['comment'], test['label']\n",
    "    n = train.shape[0]\n",
    "    vec = TfidfVectorizer(ngram_range=(1,2), tokenizer=tokenize,\n",
    "                   min_df=3, max_df=0.9, strip_accents='unicode', use_idf=1,\n",
    "                   smooth_idf=1, sublinear_tf=1 )\n",
    "    trn_term_doc = vec.fit_transform(train_x)\n",
    "    test_term_doc = vec.transform(test_x)\n",
    "    x = trn_term_doc\n",
    "    test_x = test_term_doc\n",
    "    #auc score\n",
    "    model, log = get_mdl(train_y)\n",
    "    t_preds = model.predict_proba(x)[:, 1]\n",
    "    preds = model.predict_proba(test_x.multiply(log))[:,1]\n",
    "    train_auc = roc_auc_score(train_y, t_preds)\n",
    "    test_auc = roc_auc_score(test_y, preds)\n",
    "    \n",
    "    #acc score\n",
    "    t_preds = model.predict(x)\n",
    "    preds = model.predict(test_x.multiply(log))\n",
    "    train_acc = roc_auc_score(train_y, t_preds)\n",
    "    test_acc = roc_auc_score(test_y, preds)\n",
    "    train_l.append([train_auc, train_acc])\n",
    "    test_l.append([test_auc, test_acc])\n",
    "\n",
    "train_l = np.array(train_l)\n",
    "test_l = np.array(test_l)"
   ]
  },
  {
   "cell_type": "code",
   "execution_count": 5,
   "metadata": {
    "id": "6m07bfA-Jnyd"
   },
   "outputs": [
    {
     "name": "stdout",
     "output_type": "stream",
     "text": [
      "train auc: 0.8735964313617121 +/- 0.006420402749834755\n",
      "train acc: 0.6805239521040019 +/- 0.01513150829559083\n",
      "test auc: 0.8851960131396087 +/- 0.007305758090887333\n",
      "test acc: 0.8159775855515387 +/- 0.008168510842160217\n"
     ]
    }
   ],
   "source": [
    "print('train auc:', np.mean(train_l[:, 0]), '+/-',  np.std(train_l[:, 0]))\n",
    "print('train acc:', np.mean(train_l[:, 1]), '+/-', np.std(train_l[:, 1]))\n",
    "print('test auc:', np.mean(test_l[:, 0]), '+/-', np.std(test_l[:, 0]))\n",
    "print('test acc:', np.mean(test_l[:, 1]), '+/-',np.std(test_l[:, 1]))"
   ]
  }
 ],
 "metadata": {
  "colab": {
   "collapsed_sections": [],
   "name": "Untitled0.ipynb",
   "provenance": []
  },
  "kernelspec": {
   "display_name": "Python 3",
   "language": "python",
   "name": "python3"
  },
  "language_info": {
   "codemirror_mode": {
    "name": "ipython",
    "version": 3
   },
   "file_extension": ".py",
   "mimetype": "text/x-python",
   "name": "python",
   "nbconvert_exporter": "python",
   "pygments_lexer": "ipython3",
   "version": "3.8.5"
  }
 },
 "nbformat": 4,
 "nbformat_minor": 1
}
