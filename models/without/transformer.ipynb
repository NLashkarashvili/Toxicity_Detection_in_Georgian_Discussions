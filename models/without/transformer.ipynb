{
 "cells": [
  {
   "cell_type": "code",
   "execution_count": 2,
   "metadata": {
    "_cell_guid": "b1076dfc-b9ad-4769-8c92-a6c4dae69d19",
    "_uuid": "8f2839f25d086af736a60e9eeb907d3b93b6e0e5",
    "execution": {
     "iopub.execute_input": "2021-11-22T21:08:14.805733Z",
     "iopub.status.busy": "2021-11-22T21:08:14.805422Z",
     "iopub.status.idle": "2021-11-22T21:08:18.538828Z",
     "shell.execute_reply": "2021-11-22T21:08:18.537886Z",
     "shell.execute_reply.started": "2021-11-22T21:08:14.805704Z"
    }
   },
   "outputs": [],
   "source": [
    "import pandas as pd\n",
    "import numpy as np\n",
    "import math\n",
    "import string\n",
    "import copy\n",
    "import tensorflow as tf\n",
    "from tensorflow import keras\n",
    "from tensorflow.keras import layers\n",
    "from sklearn.metrics import roc_auc_score\n",
    "from sklearn.model_selection import train_test_split\n",
    "from sklearn.model_selection import StratifiedKFold\n",
    "from collections import Counter\n",
    "from tqdm import tqdm\n",
    "import warnings\n",
    "import os\n",
    "warnings.filterwarnings(\"ignore\")"
   ]
  },
  {
   "cell_type": "code",
   "execution_count": 42,
   "metadata": {
    "execution": {
     "iopub.execute_input": "2021-11-22T21:08:21.123930Z",
     "iopub.status.busy": "2021-11-22T21:08:21.123606Z",
     "iopub.status.idle": "2021-11-22T21:08:21.136511Z",
     "shell.execute_reply": "2021-11-22T21:08:21.135585Z",
     "shell.execute_reply.started": "2021-11-22T21:08:21.123894Z"
    }
   },
   "outputs": [],
   "source": [
    "class TransformerBlock(layers.Layer):\n",
    "    def __init__(self, embed_dim, num_heads, ff_dim, rate=0.2):\n",
    "        super(TransformerBlock, self).__init__()\n",
    "        self.att = layers.MultiHeadAttention(num_heads=num_heads, key_dim=embed_dim)\n",
    "        self.ffn = keras.Sequential(\n",
    "            [layers.Dense(ff_dim, activation=\"relu\"), layers.Dense(embed_dim),]\n",
    "        )\n",
    "        self.layernorm1 = layers.LayerNormalization(epsilon=1e-6)\n",
    "        self.layernorm2 = layers.LayerNormalization(epsilon=1e-6)\n",
    "        self.dropout1 = layers.Dropout(rate)\n",
    "        self.dropout2 = layers.Dropout(rate)\n",
    "\n",
    "    def call(self, inputs, training):\n",
    "        attn_output = self.att(inputs, inputs)\n",
    "        attn_output = self.dropout1(attn_output, training=training)\n",
    "        out1 = self.layernorm1(inputs + attn_output)\n",
    "        ffn_output = self.ffn(out1)\n",
    "        ffn_output = self.dropout2(ffn_output, training=training)\n",
    "        return self.layernorm2(out1 + ffn_output)"
   ]
  },
  {
   "cell_type": "code",
   "execution_count": 43,
   "metadata": {
    "execution": {
     "iopub.execute_input": "2021-11-22T21:08:21.138494Z",
     "iopub.status.busy": "2021-11-22T21:08:21.138218Z",
     "iopub.status.idle": "2021-11-22T21:08:21.147508Z",
     "shell.execute_reply": "2021-11-22T21:08:21.146368Z",
     "shell.execute_reply.started": "2021-11-22T21:08:21.138467Z"
    }
   },
   "outputs": [],
   "source": [
    "class TokenAndPositionEmbedding(layers.Layer):\n",
    "    def __init__(self, maxlen, vocab_size, embed_dim):\n",
    "        super(TokenAndPositionEmbedding, self).__init__()\n",
    "        self.token_emb = layers.Embedding(input_dim=vocab_size, output_dim=embed_dim)\n",
    "        self.pos_emb = layers.Embedding(input_dim=maxlen, output_dim=embed_dim)\n",
    "\n",
    "    def call(self, x):\n",
    "        maxlen = tf.shape(x)[-1]\n",
    "        positions = tf.range(start=0, limit=maxlen, delta=1)\n",
    "        positions = self.pos_emb(positions)\n",
    "        x = self.token_emb(x)\n",
    "        return x + positions"
   ]
  },
  {
   "cell_type": "code",
   "execution_count": 44,
   "metadata": {
    "execution": {
     "iopub.execute_input": "2021-11-22T21:08:21.149785Z",
     "iopub.status.busy": "2021-11-22T21:08:21.149032Z",
     "iopub.status.idle": "2021-11-22T21:08:21.160649Z",
     "shell.execute_reply": "2021-11-22T21:08:21.159810Z",
     "shell.execute_reply.started": "2021-11-22T21:08:21.149741Z"
    }
   },
   "outputs": [],
   "source": [
    "test_folds = {}"
   ]
  },
  {
   "cell_type": "code",
   "execution_count": 45,
   "metadata": {
    "execution": {
     "iopub.execute_input": "2021-11-22T21:08:21.162700Z",
     "iopub.status.busy": "2021-11-22T21:08:21.162195Z",
     "iopub.status.idle": "2021-11-22T21:20:28.331154Z",
     "shell.execute_reply": "2021-11-22T21:20:28.330204Z",
     "shell.execute_reply.started": "2021-11-22T21:08:21.162661Z"
    }
   },
   "outputs": [
    {
     "name": "stdout",
     "output_type": "stream",
     "text": [
      "Epoch 1/10\n",
      "249/250 [============================>.] - ETA: 0s - loss: 0.4865 - accuracy: 0.7661 - auc: 0.8434\n",
      "Epoch 00001: val_auc improved from -inf to 0.92715, saving model to transformer_models/0001/0001.ckpt\n",
      "250/250 [==============================] - 15s 56ms/step - loss: 0.4856 - accuracy: 0.7667 - auc: 0.8438 - val_loss: 0.3338 - val_accuracy: 0.8730 - val_auc: 0.9272\n",
      "Epoch 2/10\n",
      "250/250 [==============================] - ETA: 0s - loss: 0.1264 - accuracy: 0.9538 - auc: 0.9893\n",
      "Epoch 00002: val_auc did not improve from 0.92715\n",
      "250/250 [==============================] - 13s 53ms/step - loss: 0.1264 - accuracy: 0.9538 - auc: 0.9893 - val_loss: 0.4271 - val_accuracy: 0.8490 - val_auc: 0.9052\n",
      "Epoch 3/10\n",
      "249/250 [============================>.] - ETA: 0s - loss: 0.0487 - accuracy: 0.9841 - auc: 0.9977\n",
      "Epoch 00003: val_auc did not improve from 0.92715\n",
      "250/250 [==============================] - 14s 54ms/step - loss: 0.0485 - accuracy: 0.9841 - auc: 0.9977 - val_loss: 0.4937 - val_accuracy: 0.8790 - val_auc: 0.9159\n",
      "Epoch 4/10\n",
      "249/250 [============================>.] - ETA: 0s - loss: 0.0326 - accuracy: 0.9885 - auc: 0.9991\n",
      "Epoch 00004: val_auc did not improve from 0.92715\n",
      "250/250 [==============================] - 13s 53ms/step - loss: 0.0325 - accuracy: 0.9885 - auc: 0.9991 - val_loss: 0.7766 - val_accuracy: 0.8600 - val_auc: 0.9064\n",
      "Epoch 5/10\n",
      "249/250 [============================>.] - ETA: 0s - loss: 0.0279 - accuracy: 0.9915 - auc: 0.9988\n",
      "Epoch 00005: val_auc did not improve from 0.92715\n",
      "250/250 [==============================] - 13s 53ms/step - loss: 0.0278 - accuracy: 0.9915 - auc: 0.9988 - val_loss: 0.8043 - val_accuracy: 0.8790 - val_auc: 0.9003\n",
      "Epoch 6/10\n",
      "250/250 [==============================] - ETA: 0s - loss: 0.0274 - accuracy: 0.9915 - auc: 0.9989\n",
      "Epoch 00006: val_auc did not improve from 0.92715\n",
      "250/250 [==============================] - 13s 51ms/step - loss: 0.0274 - accuracy: 0.9915 - auc: 0.9989 - val_loss: 0.7208 - val_accuracy: 0.8760 - val_auc: 0.9012\n",
      "Epoch 7/10\n",
      "250/250 [==============================] - ETA: 0s - loss: 0.0262 - accuracy: 0.9918 - auc: 0.9988\n",
      "Epoch 00007: val_auc did not improve from 0.92715\n",
      "250/250 [==============================] - 13s 51ms/step - loss: 0.0262 - accuracy: 0.9918 - auc: 0.9988 - val_loss: 0.8888 - val_accuracy: 0.8530 - val_auc: 0.8890\n",
      "Epoch 8/10\n",
      "250/250 [==============================] - ETA: 0s - loss: 0.0192 - accuracy: 0.9942 - auc: 0.9992\n",
      "Epoch 00008: val_auc did not improve from 0.92715\n",
      "250/250 [==============================] - 13s 51ms/step - loss: 0.0192 - accuracy: 0.9942 - auc: 0.9992 - val_loss: 0.9924 - val_accuracy: 0.8720 - val_auc: 0.8949\n",
      "Epoch 9/10\n",
      "249/250 [============================>.] - ETA: 0s - loss: 0.0190 - accuracy: 0.9933 - auc: 0.9993\n",
      "Epoch 00009: val_auc did not improve from 0.92715\n",
      "250/250 [==============================] - 13s 50ms/step - loss: 0.0190 - accuracy: 0.9934 - auc: 0.9993 - val_loss: 0.9876 - val_accuracy: 0.8700 - val_auc: 0.8916\n",
      "Epoch 10/10\n",
      "249/250 [============================>.] - ETA: 0s - loss: 0.0149 - accuracy: 0.9955 - auc: 0.9993\n",
      "Epoch 00010: val_auc did not improve from 0.92715\n",
      "250/250 [==============================] - 13s 52ms/step - loss: 0.0149 - accuracy: 0.9955 - auc: 0.9993 - val_loss: 0.6841 - val_accuracy: 0.8700 - val_auc: 0.9043\n",
      "250/250 [==============================] - 3s 12ms/step - loss: 0.1742 - accuracy: 0.9321 - auc: 0.9918\n",
      "32/32 [==============================] - 1s 18ms/step - loss: 0.3338 - accuracy: 0.8730 - auc: 0.9272\n",
      "32/32 [==============================] - 0s 11ms/step - loss: 0.3506 - accuracy: 0.8630 - auc: 0.9288\n",
      "mkdir: cannot create directory ‘model_path’: File exists\n",
      "Epoch 1/10\n",
      "250/250 [==============================] - ETA: 0s - loss: 0.5021 - accuracy: 0.7516 - auc: 0.8295\n",
      "Epoch 00001: val_auc improved from -inf to 0.93858, saving model to transformer_models/0002/0001.ckpt\n",
      "250/250 [==============================] - 15s 54ms/step - loss: 0.5021 - accuracy: 0.7516 - auc: 0.8295 - val_loss: 0.2936 - val_accuracy: 0.8790 - val_auc: 0.9386\n",
      "Epoch 2/10\n",
      "249/250 [============================>.] - ETA: 0s - loss: 0.1258 - accuracy: 0.9534 - auc: 0.9892\n",
      "Epoch 00002: val_auc did not improve from 0.93858\n",
      "250/250 [==============================] - 12s 50ms/step - loss: 0.1256 - accuracy: 0.9535 - auc: 0.9893 - val_loss: 0.4158 - val_accuracy: 0.8850 - val_auc: 0.9254\n",
      "Epoch 3/10\n",
      "249/250 [============================>.] - ETA: 0s - loss: 0.0476 - accuracy: 0.9853 - auc: 0.9980\n",
      "Epoch 00003: val_auc did not improve from 0.93858\n",
      "250/250 [==============================] - 12s 50ms/step - loss: 0.0475 - accuracy: 0.9854 - auc: 0.9980 - val_loss: 0.5459 - val_accuracy: 0.8810 - val_auc: 0.9122\n",
      "Epoch 4/10\n",
      "250/250 [==============================] - ETA: 0s - loss: 0.0363 - accuracy: 0.9890 - auc: 0.9984\n",
      "Epoch 00004: val_auc did not improve from 0.93858\n",
      "250/250 [==============================] - 14s 55ms/step - loss: 0.0363 - accuracy: 0.9890 - auc: 0.9984 - val_loss: 0.6272 - val_accuracy: 0.8890 - val_auc: 0.9228\n",
      "Epoch 5/10\n",
      "250/250 [==============================] - ETA: 0s - loss: 0.0314 - accuracy: 0.9908 - auc: 0.9982\n",
      "Epoch 00005: val_auc did not improve from 0.93858\n",
      "250/250 [==============================] - 14s 54ms/step - loss: 0.0314 - accuracy: 0.9908 - auc: 0.9982 - val_loss: 0.8216 - val_accuracy: 0.8190 - val_auc: 0.8996\n",
      "Epoch 6/10\n",
      "250/250 [==============================] - ETA: 0s - loss: 0.0276 - accuracy: 0.9918 - auc: 0.9988\n",
      "Epoch 00006: val_auc did not improve from 0.93858\n",
      "250/250 [==============================] - 14s 54ms/step - loss: 0.0276 - accuracy: 0.9918 - auc: 0.9988 - val_loss: 0.5808 - val_accuracy: 0.8610 - val_auc: 0.9132\n",
      "Epoch 7/10\n",
      "249/250 [============================>.] - ETA: 0s - loss: 0.0267 - accuracy: 0.9923 - auc: 0.9986\n",
      "Epoch 00007: val_auc did not improve from 0.93858\n",
      "250/250 [==============================] - 13s 52ms/step - loss: 0.0266 - accuracy: 0.9924 - auc: 0.9986 - val_loss: 0.5635 - val_accuracy: 0.8740 - val_auc: 0.9161\n",
      "Epoch 8/10\n",
      "250/250 [==============================] - ETA: 0s - loss: 0.0212 - accuracy: 0.9927 - auc: 0.9994\n",
      "Epoch 00008: val_auc did not improve from 0.93858\n",
      "250/250 [==============================] - 14s 54ms/step - loss: 0.0212 - accuracy: 0.9927 - auc: 0.9994 - val_loss: 0.6009 - val_accuracy: 0.8820 - val_auc: 0.9196\n",
      "Epoch 9/10\n",
      "250/250 [==============================] - ETA: 0s - loss: 0.0260 - accuracy: 0.9935 - auc: 0.9987\n",
      "Epoch 00009: val_auc did not improve from 0.93858\n",
      "250/250 [==============================] - 14s 55ms/step - loss: 0.0260 - accuracy: 0.9935 - auc: 0.9987 - val_loss: 0.7418 - val_accuracy: 0.8580 - val_auc: 0.9095\n",
      "Epoch 10/10\n",
      "250/250 [==============================] - ETA: 0s - loss: 0.0239 - accuracy: 0.9927 - auc: 0.9988\n",
      "Epoch 00010: val_auc did not improve from 0.93858\n",
      "250/250 [==============================] - 13s 53ms/step - loss: 0.0239 - accuracy: 0.9927 - auc: 0.9988 - val_loss: 0.7560 - val_accuracy: 0.8880 - val_auc: 0.9172\n",
      "250/250 [==============================] - 4s 15ms/step - loss: 0.1361 - accuracy: 0.9509 - auc: 0.9927\n",
      "32/32 [==============================] - 0s 14ms/step - loss: 0.2936 - accuracy: 0.8790 - auc: 0.9386\n",
      "32/32 [==============================] - 0s 13ms/step - loss: 0.2709 - accuracy: 0.9010 - auc: 0.9460\n",
      "mkdir: cannot create directory ‘model_path’: File exists\n",
      "Epoch 1/10\n",
      "250/250 [==============================] - ETA: 0s - loss: 0.4879 - accuracy: 0.7656 - auc: 0.8399\n",
      "Epoch 00001: val_auc improved from -inf to 0.92096, saving model to transformer_models/0003/0001.ckpt\n",
      "250/250 [==============================] - 15s 56ms/step - loss: 0.4879 - accuracy: 0.7656 - auc: 0.8399 - val_loss: 0.3458 - val_accuracy: 0.8750 - val_auc: 0.9210\n",
      "Epoch 2/10\n",
      "250/250 [==============================] - ETA: 0s - loss: 0.1220 - accuracy: 0.9588 - auc: 0.9892\n",
      "Epoch 00002: val_auc did not improve from 0.92096\n",
      "250/250 [==============================] - 14s 55ms/step - loss: 0.1220 - accuracy: 0.9588 - auc: 0.9892 - val_loss: 0.7261 - val_accuracy: 0.7470 - val_auc: 0.9189\n",
      "Epoch 3/10\n",
      "250/250 [==============================] - ETA: 0s - loss: 0.0475 - accuracy: 0.9847 - auc: 0.9978\n",
      "Epoch 00003: val_auc did not improve from 0.92096\n",
      "250/250 [==============================] - 14s 54ms/step - loss: 0.0475 - accuracy: 0.9847 - auc: 0.9978 - val_loss: 0.5239 - val_accuracy: 0.8670 - val_auc: 0.9208\n",
      "Epoch 4/10\n",
      "250/250 [==============================] - ETA: 0s - loss: 0.0372 - accuracy: 0.9879 - auc: 0.9986\n",
      "Epoch 00004: val_auc did not improve from 0.92096\n",
      "250/250 [==============================] - 13s 54ms/step - loss: 0.0372 - accuracy: 0.9879 - auc: 0.9986 - val_loss: 0.8908 - val_accuracy: 0.8500 - val_auc: 0.9032\n",
      "Epoch 5/10\n",
      "250/250 [==============================] - ETA: 0s - loss: 0.0298 - accuracy: 0.9912 - auc: 0.9987\n",
      "Epoch 00005: val_auc did not improve from 0.92096\n",
      "250/250 [==============================] - 14s 55ms/step - loss: 0.0298 - accuracy: 0.9912 - auc: 0.9987 - val_loss: 0.6836 - val_accuracy: 0.8720 - val_auc: 0.9129\n",
      "Epoch 6/10\n",
      "250/250 [==============================] - ETA: 0s - loss: 0.0180 - accuracy: 0.9944 - auc: 0.9992\n",
      "Epoch 00006: val_auc did not improve from 0.92096\n",
      "250/250 [==============================] - 13s 52ms/step - loss: 0.0180 - accuracy: 0.9944 - auc: 0.9992 - val_loss: 0.7494 - val_accuracy: 0.8660 - val_auc: 0.9072\n",
      "Epoch 7/10\n",
      "250/250 [==============================] - ETA: 0s - loss: 0.0222 - accuracy: 0.9927 - auc: 0.9993\n",
      "Epoch 00007: val_auc did not improve from 0.92096\n",
      "250/250 [==============================] - 14s 55ms/step - loss: 0.0222 - accuracy: 0.9927 - auc: 0.9993 - val_loss: 0.5096 - val_accuracy: 0.8650 - val_auc: 0.9066\n",
      "Epoch 8/10\n",
      "250/250 [==============================] - ETA: 0s - loss: 0.0248 - accuracy: 0.9920 - auc: 0.9993\n",
      "Epoch 00008: val_auc did not improve from 0.92096\n",
      "250/250 [==============================] - 13s 52ms/step - loss: 0.0248 - accuracy: 0.9920 - auc: 0.9993 - val_loss: 0.8317 - val_accuracy: 0.8720 - val_auc: 0.9079\n",
      "Epoch 9/10\n",
      "250/250 [==============================] - ETA: 0s - loss: 0.0226 - accuracy: 0.9930 - auc: 0.9991\n",
      "Epoch 00009: val_auc did not improve from 0.92096\n",
      "250/250 [==============================] - 14s 56ms/step - loss: 0.0226 - accuracy: 0.9930 - auc: 0.9991 - val_loss: 0.7464 - val_accuracy: 0.8870 - val_auc: 0.9103\n",
      "Epoch 10/10\n",
      "249/250 [============================>.] - ETA: 0s - loss: 0.0086 - accuracy: 0.9972 - auc: 0.9998\n",
      "Epoch 00010: val_auc did not improve from 0.92096\n",
      "250/250 [==============================] - 14s 55ms/step - loss: 0.0086 - accuracy: 0.9973 - auc: 0.9998 - val_loss: 1.2797 - val_accuracy: 0.8520 - val_auc: 0.8808\n",
      "250/250 [==============================] - 3s 12ms/step - loss: 0.1299 - accuracy: 0.9539 - auc: 0.9916\n",
      "32/32 [==============================] - 0s 12ms/step - loss: 0.3458 - accuracy: 0.8750 - auc: 0.9210\n",
      "32/32 [==============================] - 0s 12ms/step - loss: 0.3003 - accuracy: 0.8820 - auc: 0.9386\n",
      "mkdir: cannot create directory ‘model_path’: File exists\n",
      "Epoch 1/10\n",
      "250/250 [==============================] - ETA: 0s - loss: 0.5060 - accuracy: 0.7575 - auc: 0.8271\n",
      "Epoch 00001: val_auc improved from -inf to 0.94408, saving model to transformer_models/0004/0001.ckpt\n",
      "250/250 [==============================] - 15s 56ms/step - loss: 0.5060 - accuracy: 0.7575 - auc: 0.8271 - val_loss: 0.2978 - val_accuracy: 0.8890 - val_auc: 0.9441\n",
      "Epoch 2/10\n",
      "249/250 [============================>.] - ETA: 0s - loss: 0.1324 - accuracy: 0.9539 - auc: 0.9877\n",
      "Epoch 00002: val_auc improved from 0.94408 to 0.94503, saving model to transformer_models/0004/0002.ckpt\n",
      "250/250 [==============================] - 14s 55ms/step - loss: 0.1326 - accuracy: 0.9539 - auc: 0.9877 - val_loss: 0.3917 - val_accuracy: 0.8650 - val_auc: 0.9450\n",
      "Epoch 3/10\n",
      "250/250 [==============================] - ETA: 0s - loss: 0.0515 - accuracy: 0.9861 - auc: 0.9975\n",
      "Epoch 00003: val_auc did not improve from 0.94503\n",
      "250/250 [==============================] - 13s 54ms/step - loss: 0.0515 - accuracy: 0.9861 - auc: 0.9975 - val_loss: 0.5105 - val_accuracy: 0.8870 - val_auc: 0.9265\n",
      "Epoch 4/10\n",
      "250/250 [==============================] - ETA: 0s - loss: 0.0289 - accuracy: 0.9914 - auc: 0.9985\n",
      "Epoch 00004: val_auc did not improve from 0.94503\n",
      "250/250 [==============================] - 14s 56ms/step - loss: 0.0289 - accuracy: 0.9914 - auc: 0.9985 - val_loss: 0.5329 - val_accuracy: 0.8870 - val_auc: 0.9269\n",
      "Epoch 5/10\n",
      "250/250 [==============================] - ETA: 0s - loss: 0.0194 - accuracy: 0.9948 - auc: 0.9994\n",
      "Epoch 00005: val_auc did not improve from 0.94503\n",
      "250/250 [==============================] - 13s 53ms/step - loss: 0.0194 - accuracy: 0.9948 - auc: 0.9994 - val_loss: 0.3940 - val_accuracy: 0.9060 - val_auc: 0.9416\n",
      "Epoch 6/10\n",
      "250/250 [==============================] - ETA: 0s - loss: 0.0214 - accuracy: 0.9935 - auc: 0.9990\n",
      "Epoch 00006: val_auc did not improve from 0.94503\n",
      "250/250 [==============================] - 14s 56ms/step - loss: 0.0214 - accuracy: 0.9935 - auc: 0.9990 - val_loss: 0.8097 - val_accuracy: 0.8580 - val_auc: 0.9058\n",
      "Epoch 7/10\n",
      "250/250 [==============================] - ETA: 0s - loss: 0.0179 - accuracy: 0.9949 - auc: 0.9994\n",
      "Epoch 00007: val_auc did not improve from 0.94503\n",
      "250/250 [==============================] - 13s 52ms/step - loss: 0.0179 - accuracy: 0.9949 - auc: 0.9994 - val_loss: 0.6312 - val_accuracy: 0.8930 - val_auc: 0.9206\n",
      "Epoch 8/10\n",
      "249/250 [============================>.] - ETA: 0s - loss: 0.0251 - accuracy: 0.9920 - auc: 0.9989\n",
      "Epoch 00008: val_auc did not improve from 0.94503\n",
      "250/250 [==============================] - 13s 51ms/step - loss: 0.0252 - accuracy: 0.9919 - auc: 0.9989 - val_loss: 0.6401 - val_accuracy: 0.8960 - val_auc: 0.9224\n",
      "Epoch 9/10\n",
      "250/250 [==============================] - ETA: 0s - loss: 0.0201 - accuracy: 0.9934 - auc: 0.9991\n",
      "Epoch 00009: val_auc did not improve from 0.94503\n",
      "250/250 [==============================] - 14s 57ms/step - loss: 0.0201 - accuracy: 0.9934 - auc: 0.9991 - val_loss: 0.9584 - val_accuracy: 0.8720 - val_auc: 0.9163\n",
      "Epoch 10/10\n",
      "250/250 [==============================] - ETA: 0s - loss: 0.0263 - accuracy: 0.9927 - auc: 0.9989\n",
      "Epoch 00010: val_auc did not improve from 0.94503\n",
      "250/250 [==============================] - 13s 52ms/step - loss: 0.0263 - accuracy: 0.9927 - auc: 0.9989 - val_loss: 0.4251 - val_accuracy: 0.8930 - val_auc: 0.9331\n",
      "250/250 [==============================] - 4s 13ms/step - loss: 0.0601 - accuracy: 0.9781 - auc: 0.9990\n",
      "32/32 [==============================] - 0s 13ms/step - loss: 0.3917 - accuracy: 0.8650 - auc: 0.9450\n",
      "32/32 [==============================] - 1s 21ms/step - loss: 0.4306 - accuracy: 0.8440 - auc: 0.9277\n",
      "mkdir: cannot create directory ‘model_path’: File exists\n",
      "Epoch 1/10\n",
      "250/250 [==============================] - ETA: 0s - loss: 0.4988 - accuracy: 0.7552 - auc: 0.8349\n",
      "Epoch 00001: val_auc improved from -inf to 0.94543, saving model to transformer_models/0005/0001.ckpt\n",
      "250/250 [==============================] - 15s 55ms/step - loss: 0.4988 - accuracy: 0.7552 - auc: 0.8349 - val_loss: 0.2928 - val_accuracy: 0.8910 - val_auc: 0.9454\n",
      "Epoch 2/10\n",
      "249/250 [============================>.] - ETA: 0s - loss: 0.1469 - accuracy: 0.9492 - auc: 0.9845\n",
      "Epoch 00002: val_auc did not improve from 0.94543\n",
      "250/250 [==============================] - 13s 54ms/step - loss: 0.1469 - accuracy: 0.9491 - auc: 0.9845 - val_loss: 0.3510 - val_accuracy: 0.8680 - val_auc: 0.9379\n",
      "Epoch 3/10\n",
      "250/250 [==============================] - ETA: 0s - loss: 0.0673 - accuracy: 0.9776 - auc: 0.9956\n",
      "Epoch 00003: val_auc did not improve from 0.94543\n",
      "250/250 [==============================] - 14s 56ms/step - loss: 0.0673 - accuracy: 0.9776 - auc: 0.9956 - val_loss: 0.4616 - val_accuracy: 0.8830 - val_auc: 0.9209\n",
      "Epoch 4/10\n",
      "250/250 [==============================] - ETA: 0s - loss: 0.0348 - accuracy: 0.9893 - auc: 0.9985\n",
      "Epoch 00004: val_auc did not improve from 0.94543\n",
      "250/250 [==============================] - 13s 54ms/step - loss: 0.0348 - accuracy: 0.9893 - auc: 0.9985 - val_loss: 0.5402 - val_accuracy: 0.8890 - val_auc: 0.9224\n",
      "Epoch 5/10\n",
      "250/250 [==============================] - ETA: 0s - loss: 0.0306 - accuracy: 0.9908 - auc: 0.9983\n",
      "Epoch 00005: val_auc did not improve from 0.94543\n",
      "250/250 [==============================] - 14s 56ms/step - loss: 0.0306 - accuracy: 0.9908 - auc: 0.9983 - val_loss: 0.8189 - val_accuracy: 0.8890 - val_auc: 0.9070\n",
      "Epoch 6/10\n",
      "250/250 [==============================] - ETA: 0s - loss: 0.0252 - accuracy: 0.9914 - auc: 0.9994\n",
      "Epoch 00006: val_auc did not improve from 0.94543\n",
      "250/250 [==============================] - 14s 55ms/step - loss: 0.0252 - accuracy: 0.9914 - auc: 0.9994 - val_loss: 0.6262 - val_accuracy: 0.8850 - val_auc: 0.9162\n",
      "Epoch 7/10\n",
      "250/250 [==============================] - ETA: 0s - loss: 0.0153 - accuracy: 0.9954 - auc: 0.9996\n",
      "Epoch 00007: val_auc did not improve from 0.94543\n",
      "250/250 [==============================] - 14s 57ms/step - loss: 0.0153 - accuracy: 0.9954 - auc: 0.9996 - val_loss: 0.8040 - val_accuracy: 0.8670 - val_auc: 0.9045\n",
      "Epoch 8/10\n",
      "250/250 [==============================] - ETA: 0s - loss: 0.0173 - accuracy: 0.9949 - auc: 0.9993\n",
      "Epoch 00008: val_auc did not improve from 0.94543\n",
      "250/250 [==============================] - 14s 54ms/step - loss: 0.0173 - accuracy: 0.9949 - auc: 0.9993 - val_loss: 0.6542 - val_accuracy: 0.8930 - val_auc: 0.9100\n",
      "Epoch 9/10\n",
      "250/250 [==============================] - ETA: 0s - loss: 0.0121 - accuracy: 0.9964 - auc: 0.9995\n",
      "Epoch 00009: val_auc did not improve from 0.94543\n",
      "250/250 [==============================] - 14s 54ms/step - loss: 0.0121 - accuracy: 0.9964 - auc: 0.9995 - val_loss: 1.1212 - val_accuracy: 0.8550 - val_auc: 0.8977\n",
      "Epoch 10/10\n",
      "250/250 [==============================] - ETA: 0s - loss: 0.0181 - accuracy: 0.9946 - auc: 0.9991\n",
      "Epoch 00010: val_auc did not improve from 0.94543\n",
      "250/250 [==============================] - 14s 57ms/step - loss: 0.0181 - accuracy: 0.9946 - auc: 0.9991 - val_loss: 1.0602 - val_accuracy: 0.8780 - val_auc: 0.8997\n",
      "250/250 [==============================] - 4s 13ms/step - loss: 0.1820 - accuracy: 0.9373 - auc: 0.9906\n",
      "32/32 [==============================] - 0s 13ms/step - loss: 0.2928 - accuracy: 0.8910 - auc: 0.9454\n",
      "32/32 [==============================] - 0s 13ms/step - loss: 0.3129 - accuracy: 0.8880 - auc: 0.9359\n"
     ]
    }
   ],
   "source": [
    "stfold = StratifiedKFold(n_splits=5, shuffle=True)\n",
    "train_l = list()\n",
    "val_l = list()\n",
    "test_l = list()\n",
    "maxlen = 25\n",
    "cnt = 0\n",
    "for train_index, test_index in stfold.split(data['comment'], data['label']):\n",
    "    cnt += 1\n",
    "    train = data.iloc[train_index]\n",
    "    train_x, train_y = train['comment'], train['label']\n",
    "    tmp = data.iloc[test_index]\n",
    "\n",
    "    val, test = train_test_split(tmp, test_size=0.5, stratify=tmp['label'])    \n",
    "    val_x, val_y = val['comment'], val['label']\n",
    "    test_x, test_y = test['comment'], test['label']    \n",
    "    \n",
    "    train_x = keras.preprocessing.sequence.pad_sequences(train_x, maxlen=maxlen)\n",
    "    val_x = keras.preprocessing.sequence.pad_sequences(val_x, maxlen=maxlen)\n",
    "    test_x = keras.preprocessing.sequence.pad_sequences(test_x, maxlen=maxlen)\n",
    "    \n",
    "    test_folds[cnt] = (test_x, test_y)\n",
    "    embed_dim = 64  # Embedding size for each token\n",
    "    num_heads = 8  # Number of attention heads\n",
    "    ff_dim = 64  # Hidden layer size in feed forward network inside transformer\n",
    "    vocab_size = n_word_unique + 1\n",
    "\n",
    "    inputs = layers.Input(shape=(maxlen,))\n",
    "    embedding_layer = TokenAndPositionEmbedding(maxlen, vocab_size, embed_dim)\n",
    "    x = embedding_layer(inputs)\n",
    "    transformer_block = TransformerBlock(embed_dim, num_heads, ff_dim)\n",
    "    x = transformer_block(x)\n",
    "    x = layers.GlobalAveragePooling1D()(x)\n",
    "    x = layers.Dropout(0.2)(x)\n",
    "    x = layers.BatchNormalization()(x)\n",
    "    outputs = layers.Dense(1, activation=\"sigmoid\")(x)\n",
    "\n",
    "    model = keras.Model(inputs=inputs, outputs=outputs)\n",
    "    model_path = \"transformer_models/{itr:04}/\".format(itr=cnt)\n",
    "    checkpoint_path = model_path  + \"{epoch:04d}.ckpt\"\n",
    "    checkpoint_dir = os.path.dirname(checkpoint_path)\n",
    "    !mkdir model_path\n",
    "    \n",
    "    model.compile(tf.keras.optimizers.Adam(lr=0.0056), \"binary_crossentropy\", metrics=[\"accuracy\", \n",
    "                                                          tf.keras.metrics.AUC(name='auc')])\n",
    "    \n",
    "    \n",
    "    #create checkpoint to save model\n",
    "    #with best validation loss\n",
    "    model.save_weights(checkpoint_path.format(epoch=0))\n",
    "\n",
    "    checkpoint = tf.keras.callbacks.ModelCheckpoint(checkpoint_path, monitor='val_auc', verbose=1,\n",
    "            save_weights_only=True, save_best_only=True, mode='max')\n",
    "    \n",
    "    history = model.fit(\n",
    "                        train_x, train_y, \n",
    "                        batch_size=32, epochs=10, \n",
    "                        validation_data=(val_x, val_y),\n",
    "                        callbacks = [checkpoint]\n",
    "                        )\n",
    "    \n",
    "    latest = tf.train.latest_checkpoint(checkpoint_dir)\n",
    "    model.load_weights(latest)\n",
    "    \n",
    "    train_eval = model.evaluate(train_x, train_y)\n",
    "    val_eval = model.evaluate(val_x, val_y)\n",
    "    test_eval = model.evaluate(test_x, test_y)\n",
    "    \n",
    "    test_l.append(test_eval)\n",
    "    val_l.append(val_eval)\n",
    "    train_l.append(train_eval)"
   ]
  },
  {
   "cell_type": "code",
   "execution_count": 46,
   "metadata": {
    "execution": {
     "iopub.execute_input": "2021-11-22T21:20:28.335793Z",
     "iopub.status.busy": "2021-11-22T21:20:28.335465Z",
     "iopub.status.idle": "2021-11-22T21:20:28.358025Z",
     "shell.execute_reply": "2021-11-22T21:20:28.357227Z",
     "shell.execute_reply.started": "2021-11-22T21:20:28.335761Z"
    }
   },
   "outputs": [
    {
     "name": "stdout",
     "output_type": "stream",
     "text": [
      "test avg loss:  0.33307995200157164 +/- 0.055080099952948644\n",
      "test avg acc:  0.875600004196167 +/- 0.019986012993357248\n",
      "test avg auc:  0.9353846073150635 +/- 0.006703173759728353\n",
      "\n",
      "\n",
      "val avg loss:  0.33153563141822817 +/- 0.036786808277246695\n",
      "val avg acc:  0.8766000032424927 +/- 0.008522896802012923\n",
      "val avg auc:  0.9354297876358032 +/- 0.009797463285738198\n",
      "\n",
      "\n",
      "train avg loss:  0.1364382289350033 +/- 0.04330184694881527\n",
      "train avg acc:  0.9504499912261963 +/- 0.01604906064639812\n",
      "train avg auc:  0.993152403831482 +/- 0.0029975613443230346\n"
     ]
    }
   ],
   "source": [
    "test_l = np.array(test_l)\n",
    "val_l = np.array(val_l)\n",
    "train_l = np.array(train_l)\n",
    "\n",
    "print(\"test avg loss: \", np.mean(test_l[:, 0]), \"+/-\" ,np.std(test_l[:, 0]))\n",
    "print(\"test avg acc: \", np.mean(test_l[:, 1]),  \"+/-\" ,np.std(test_l[:, 1]))\n",
    "print(\"test avg auc: \", np.mean(test_l[:, 2]),  \"+/-\" ,np.std(test_l[:, 2]))\n",
    "print('\\n')\n",
    "\n",
    "\n",
    "print(\"val avg loss: \", np.mean(val_l[:, 0]), \"+/-\" ,np.std(val_l[:, 0]))\n",
    "print(\"val avg acc: \", np.mean(val_l[:, 1]),  \"+/-\" ,np.std(val_l[:, 1]))\n",
    "print(\"val avg auc: \", np.mean(val_l[:, 2]),  \"+/-\" ,np.std(val_l[:, 2]))\n",
    "print('\\n')\n",
    "\n",
    "\n",
    "print(\"train avg loss: \", np.mean(train_l[:, 0]), \"+/-\" ,np.std(train_l[:, 0]))\n",
    "print(\"train avg acc: \", np.mean(train_l[:, 1]),  \"+/-\" ,np.std(train_l[:, 1]))\n",
    "print(\"train avg auc: \", np.mean(train_l[:, 2]),  \"+/-\" ,np.std(train_l[:, 2]))"
   ]
  },
  {
   "cell_type": "code",
   "execution_count": 47,
   "metadata": {
    "execution": {
     "iopub.execute_input": "2021-11-22T21:20:28.360399Z",
     "iopub.status.busy": "2021-11-22T21:20:28.359863Z",
     "iopub.status.idle": "2021-11-22T21:20:29.633228Z",
     "shell.execute_reply": "2021-11-22T21:20:29.632260Z",
     "shell.execute_reply.started": "2021-11-22T21:20:28.360359Z"
    }
   },
   "outputs": [
    {
     "data": {
      "image/png": "[encoded data removed]",
      "text/plain": [
       "<Figure size 720x432 with 2 Axes>"
      ]
     },
     "metadata": {
      "needs_background": "light"
     },
     "output_type": "display_data"
    }
   ],
   "source": [
    "import matplotlib.pyplot as plt\n",
    "import matplotlib\n",
    "import seaborn as sns\n",
    "import pandas as pd \n",
    "from sklearn.metrics import confusion_matrix\n",
    "\n",
    "font = {'family' : 'normal',\n",
    "        'weight' : 'bold',\n",
    "        'size'   : 16}\n",
    "\n",
    "matplotlib.rc('font', **font)\n",
    "pred = np.array([model.predict(test_folds[5][0]) > 0.5], dtype=int).ravel()\n",
    "cm = confusion_matrix(test_folds[5][1].values, pred)\n",
    "cm = pd.DataFrame(cm, range(2),range(2))\n",
    "plt.figure(figsize = (10, 6))\n",
    "\n",
    "sns.heatmap(cm,\n",
    "            fmt = 'd',\n",
    "            annot=True)\n",
    "\n",
    "\n",
    "ax = plt.subplot()\n",
    "ax.set_xlabel('Predicted')\n",
    "ax.set_ylabel('Labels')\n",
    "ax.xaxis.set_ticklabels(['non-toxic', 'toxic'])\n",
    "ax.yaxis.set_ticklabels(['non-toxic', 'toxic'])\n",
    "ax.set_title('Transformer Model')\n",
    "plt.show()"
   ]
  },
  {
   "cell_type": "code",
   "execution_count": 48,
   "metadata": {
    "execution": {
     "iopub.execute_input": "2021-11-22T21:20:29.635229Z",
     "iopub.status.busy": "2021-11-22T21:20:29.634655Z",
     "iopub.status.idle": "2021-11-22T21:20:29.657788Z",
     "shell.execute_reply": "2021-11-22T21:20:29.656826Z",
     "shell.execute_reply.started": "2021-11-22T21:20:29.635172Z"
    }
   },
   "outputs": [
    {
     "data": {
      "text/plain": [
       "<Figure size 432x288 with 0 Axes>"
      ]
     },
     "metadata": {},
     "output_type": "display_data"
    }
   ],
   "source": [
    "plt.savefig('transformer.png')"
   ]
  },
  {
   "cell_type": "code",
   "execution_count": 49,
   "metadata": {
    "execution": {
     "iopub.execute_input": "2021-11-22T21:25:15.258016Z",
     "iopub.status.busy": "2021-11-22T21:25:15.257686Z",
     "iopub.status.idle": "2021-11-22T21:25:15.296199Z",
     "shell.execute_reply": "2021-11-22T21:25:15.295503Z",
     "shell.execute_reply.started": "2021-11-22T21:25:15.257987Z"
    }
   },
   "outputs": [
    {
     "name": "stdout",
     "output_type": "stream",
     "text": [
      "correct 11.844594594594595 +/- 10.223133682642697\n",
      "incorrect 18.75 +/- 21.96660036354127\n",
      "###########################\n",
      "correct 0 11.458015267175572 +/- 11.578650850506332\n",
      "incorrect 0 25.083333333333332 +/- 35.093273982173265\n",
      "###########################\n",
      "correct 1 12.401098901098901 +/- 7.854643581113972\n",
      "incorrect 1 17.99 +/- 19.968406865027383\n"
     ]
    }
   ],
   "source": [
    "ind = np.arange(test.shape[0])\n",
    "test['word_count'] = test['comment'].apply(lambda a: len(a))\n",
    "test = test.reset_index(drop=True)\n",
    "correct = pred==test_y\n",
    "select_cor = ind[correct]\n",
    "where_0_c = ind[(correct) & (test_y==0)]\n",
    "where_0_n = ind[(correct==False) & (test_y==0)]\n",
    "where_1_c = ind[(correct) & (test_y==1)]\n",
    "where_1_n = ind[(correct==False) & (test_y==1)]\n",
    "\n",
    "cor_mean = test.iloc[select_cor]['word_count'].mean(), \n",
    "inc_mean = test.iloc[list(set(ind) - set(select_cor))]['word_count'].mean()\n",
    "cor_std = test.iloc[select_cor]['word_count'].std(), \n",
    "inc_std = test.iloc[list(set(ind) - set(select_cor))]['word_count'].std()\n",
    "print(\"correct\", cor_mean[0], '+/-', cor_std[0])\n",
    "print(\"incorrect\", inc_mean, '+/-', inc_std)\n",
    "print('###########################')\n",
    "\n",
    "cor_mean_0 = test.iloc[where_0_c]['word_count'].mean(), \n",
    "inc_mean_0 = test.iloc[where_0_n]['word_count'].mean()\n",
    "cor_std_0 = test.iloc[where_0_c]['word_count'].std(), \n",
    "inc_std_0 = test.iloc[where_0_n]['word_count'].std()\n",
    "print(\"correct 0\", cor_mean_0[0], '+/-', cor_std_0[0])\n",
    "print(\"incorrect 0\", inc_mean_0, '+/-', inc_std_0)\n",
    "print('###########################')\n",
    "\n",
    "\n",
    "cor_mean_1 = test.iloc[where_1_c]['word_count'].mean(), \n",
    "inc_mean_1 = test.iloc[where_1_n]['word_count'].mean()\n",
    "cor_std_1 = test.iloc[where_1_c]['word_count'].std(), \n",
    "inc_std_1 = test.iloc[where_1_n]['word_count'].std()\n",
    "print(\"correct 1\", cor_mean_1[0], '+/-', cor_std_1[0])\n",
    "print(\"incorrect 1\", inc_mean_1, '+/-', inc_std_1)"
   ]
  },
  {
   "cell_type": "code",
   "execution_count": 50,
   "metadata": {
    "execution": {
     "iopub.execute_input": "2021-11-22T21:25:45.584253Z",
     "iopub.status.busy": "2021-11-22T21:25:45.583932Z",
     "iopub.status.idle": "2021-11-22T21:25:45.598613Z",
     "shell.execute_reply": "2021-11-22T21:25:45.597900Z",
     "shell.execute_reply.started": "2021-11-22T21:25:45.584225Z"
    }
   },
   "outputs": [],
   "source": [
    "correct_list = list()\n",
    "incorrect_list = list()\n",
    "cor_ind = ind[correct]\n",
    "incor_ind = ind[list(set(ind) - set(select_cor))]\n",
    "for cor_com in test.iloc[cor_ind].comment:\n",
    "    correct_list.extend(cor_com)\n",
    "\n",
    "for incor_com in test.iloc[incor_ind].comment:\n",
    "    incorrect_list.extend(incor_com)\n",
    "\n",
    "cor_top10 = Counter(correct_list).most_common(10)\n",
    "incor_top10 = Counter(incorrect_list).most_common(10)"
   ]
  },
  {
   "cell_type": "code",
   "execution_count": 52,
   "metadata": {
    "execution": {
     "iopub.execute_input": "2021-11-22T21:26:16.024293Z",
     "iopub.status.busy": "2021-11-22T21:26:16.023958Z",
     "iopub.status.idle": "2021-11-22T21:26:16.037733Z",
     "shell.execute_reply": "2021-11-22T21:26:16.036834Z",
     "shell.execute_reply.started": "2021-11-22T21:26:16.024264Z"
    }
   },
   "outputs": [],
   "source": [
    "ix_to_word = {v:k for k,v in word_dict_inx.items()}"
   ]
  },
  {
   "cell_type": "code",
   "execution_count": 53,
   "metadata": {
    "execution": {
     "iopub.execute_input": "2021-11-22T21:26:16.977236Z",
     "iopub.status.busy": "2021-11-22T21:26:16.976917Z",
     "iopub.status.idle": "2021-11-22T21:26:16.988755Z",
     "shell.execute_reply": "2021-11-22T21:26:16.987605Z",
     "shell.execute_reply.started": "2021-11-22T21:26:16.977207Z"
    }
   },
   "outputs": [
    {
     "name": "stdout",
     "output_type": "stream",
     "text": [
      "CORRECT\n",
      "არ\n",
      "რა\n",
      "ეს\n",
      "ჩვენი\n",
      "უნდა\n",
      "არე\n",
      "ამ\n",
      "იყო\n",
      "ვერ\n",
      "ერთი\n",
      "###################\n",
      "INCORRECT\n",
      "არ\n",
      "უნდა\n",
      "ამ\n",
      "ეს\n",
      "იყო\n",
      "რა\n",
      "არა\n",
      "საქართველო\n",
      "ის\n",
      "ჩვენი\n"
     ]
    }
   ],
   "source": [
    "print('CORRECT')\n",
    "for cor in cor_top10:\n",
    "    print(ix_to_word[cor[0]])\n",
    "print('###################')\n",
    "print('INCORRECT')\n",
    "\n",
    "for incor in incor_top10:\n",
    "    print(ix_to_word[incor[0]])"
   ]
  }
 ],
 "metadata": {
  "kernelspec": {
   "display_name": "Python 3",
   "language": "python",
   "name": "python3"
  },
  "language_info": {
   "codemirror_mode": {
    "name": "ipython",
    "version": 3
   },
   "file_extension": ".py",
   "mimetype": "text/x-python",
   "name": "python",
   "nbconvert_exporter": "python",
   "pygments_lexer": "ipython3",
   "version": "3.8.5"
  }
 },
 "nbformat": 4,
 "nbformat_minor": 4
}
